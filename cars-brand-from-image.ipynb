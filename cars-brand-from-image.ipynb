{
 "cells": [
  {
   "cell_type": "markdown",
   "id": "08e39eef",
   "metadata": {
    "execution": {
     "iopub.execute_input": "2021-11-23T16:42:56.493940Z",
     "iopub.status.busy": "2021-11-23T16:42:56.493411Z",
     "iopub.status.idle": "2021-11-23T16:42:56.497855Z",
     "shell.execute_reply": "2021-11-23T16:42:56.496895Z",
     "shell.execute_reply.started": "2021-11-23T16:42:56.493885Z"
    },
    "papermill": {
     "duration": 0.073588,
     "end_time": "2021-11-24T17:46:35.551616",
     "exception": false,
     "start_time": "2021-11-24T17:46:35.478028",
     "status": "completed"
    },
    "tags": []
   },
   "source": [
    "## Imports"
   ]
  },
  {
   "cell_type": "code",
   "execution_count": 1,
   "id": "811f38af",
   "metadata": {
    "_cell_guid": "b1076dfc-b9ad-4769-8c92-a6c4dae69d19",
    "_uuid": "8f2839f25d086af736a60e9eeb907d3b93b6e0e5",
    "execution": {
     "iopub.execute_input": "2021-11-24T17:46:35.676163Z",
     "iopub.status.busy": "2021-11-24T17:46:35.675135Z",
     "iopub.status.idle": "2021-11-24T17:46:35.683550Z",
     "shell.execute_reply": "2021-11-24T17:46:35.682907Z",
     "shell.execute_reply.started": "2021-11-24T16:17:14.490718Z"
    },
    "papermill": {
     "duration": 0.063084,
     "end_time": "2021-11-24T17:46:35.683782",
     "exception": false,
     "start_time": "2021-11-24T17:46:35.620698",
     "status": "completed"
    },
    "tags": []
   },
   "outputs": [],
   "source": [
    "import pandas as pd"
   ]
  },
  {
   "cell_type": "markdown",
   "id": "681b466e",
   "metadata": {
    "papermill": {
     "duration": 0.04397,
     "end_time": "2021-11-24T17:46:35.772348",
     "exception": false,
     "start_time": "2021-11-24T17:46:35.728378",
     "status": "completed"
    },
    "tags": []
   },
   "source": [
    "## Loading Data"
   ]
  },
  {
   "cell_type": "code",
   "execution_count": 2,
   "id": "61e65459",
   "metadata": {
    "execution": {
     "iopub.execute_input": "2021-11-24T17:46:35.868922Z",
     "iopub.status.busy": "2021-11-24T17:46:35.868296Z",
     "iopub.status.idle": "2021-11-24T17:46:36.145063Z",
     "shell.execute_reply": "2021-11-24T17:46:36.144415Z",
     "shell.execute_reply.started": "2021-11-24T16:17:14.504838Z"
    },
    "papermill": {
     "duration": 0.324978,
     "end_time": "2021-11-24T17:46:36.145255",
     "exception": false,
     "start_time": "2021-11-24T17:46:35.820277",
     "status": "completed"
    },
    "tags": []
   },
   "outputs": [
    {
     "data": {
      "text/plain": [
       "(77980, 10)"
      ]
     },
     "execution_count": 2,
     "metadata": {},
     "output_type": "execute_result"
    }
   ],
   "source": [
    "df = pd.read_csv('../input/vehicle-images-dataset/vehcle_img_data.csv', low_memory=False)\n",
    "df.shape"
   ]
  },
  {
   "cell_type": "markdown",
   "id": "b7e8618a",
   "metadata": {
    "papermill": {
     "duration": 0.043913,
     "end_time": "2021-11-24T17:46:36.236034",
     "exception": false,
     "start_time": "2021-11-24T17:46:36.192121",
     "status": "completed"
    },
    "tags": []
   },
   "source": [
    "## Cheking na values"
   ]
  },
  {
   "cell_type": "code",
   "execution_count": 3,
   "id": "68ba2cca",
   "metadata": {
    "execution": {
     "iopub.execute_input": "2021-11-24T17:46:36.330861Z",
     "iopub.status.busy": "2021-11-24T17:46:36.329928Z",
     "iopub.status.idle": "2021-11-24T17:46:36.396830Z",
     "shell.execute_reply": "2021-11-24T17:46:36.397341Z",
     "shell.execute_reply.started": "2021-11-24T16:17:14.717725Z"
    },
    "papermill": {
     "duration": 0.116374,
     "end_time": "2021-11-24T17:46:36.397481",
     "exception": false,
     "start_time": "2021-11-24T17:46:36.281107",
     "status": "completed"
    },
    "tags": []
   },
   "outputs": [
    {
     "data": {
      "text/plain": [
       "Image_Path          2\n",
       "Brand               0\n",
       "Model               1\n",
       "Edition         65742\n",
       "Year                0\n",
       "Condition           0\n",
       "Transmission        1\n",
       "Body             1224\n",
       "Fuel                0\n",
       "Capacity          205\n",
       "dtype: int64"
      ]
     },
     "execution_count": 3,
     "metadata": {},
     "output_type": "execute_result"
    }
   ],
   "source": [
    "df.isna().sum()"
   ]
  },
  {
   "cell_type": "markdown",
   "id": "92bb68de",
   "metadata": {
    "papermill": {
     "duration": 0.044596,
     "end_time": "2021-11-24T17:46:36.525091",
     "exception": false,
     "start_time": "2021-11-24T17:46:36.480495",
     "status": "completed"
    },
    "tags": []
   },
   "source": [
    "#### "
   ]
  },
  {
   "cell_type": "markdown",
   "id": "4f594414",
   "metadata": {
    "papermill": {
     "duration": 0.044112,
     "end_time": "2021-11-24T17:46:36.614787",
     "exception": false,
     "start_time": "2021-11-24T17:46:36.570675",
     "status": "completed"
    },
    "tags": []
   },
   "source": [
    "#### we have two null paths"
   ]
  },
  {
   "cell_type": "code",
   "execution_count": 4,
   "id": "6090d0c2",
   "metadata": {
    "execution": {
     "iopub.execute_input": "2021-11-24T17:46:36.720696Z",
     "iopub.status.busy": "2021-11-24T17:46:36.716771Z",
     "iopub.status.idle": "2021-11-24T17:46:36.737101Z",
     "shell.execute_reply": "2021-11-24T17:46:36.736552Z",
     "shell.execute_reply.started": "2021-11-24T16:17:14.795035Z"
    },
    "papermill": {
     "duration": 0.076932,
     "end_time": "2021-11-24T17:46:36.737226",
     "exception": false,
     "start_time": "2021-11-24T17:46:36.660294",
     "status": "completed"
    },
    "tags": []
   },
   "outputs": [],
   "source": [
    "df = df[~df.Image_Path.isnull()]"
   ]
  },
  {
   "cell_type": "markdown",
   "id": "f249d904",
   "metadata": {
    "papermill": {
     "duration": 0.076797,
     "end_time": "2021-11-24T17:46:36.861594",
     "exception": false,
     "start_time": "2021-11-24T17:46:36.784797",
     "status": "completed"
    },
    "tags": []
   },
   "source": [
    "## Visualisation"
   ]
  },
  {
   "cell_type": "code",
   "execution_count": 5,
   "id": "3d0ea301",
   "metadata": {
    "execution": {
     "iopub.execute_input": "2021-11-24T17:46:37.086825Z",
     "iopub.status.busy": "2021-11-24T17:46:37.085668Z",
     "iopub.status.idle": "2021-11-24T17:46:37.089089Z",
     "shell.execute_reply": "2021-11-24T17:46:37.090126Z",
     "shell.execute_reply.started": "2021-11-24T16:17:14.819293Z"
    },
    "papermill": {
     "duration": 0.11968,
     "end_time": "2021-11-24T17:46:37.090345",
     "exception": false,
     "start_time": "2021-11-24T17:46:36.970665",
     "status": "completed"
    },
    "tags": []
   },
   "outputs": [],
   "source": [
    "import matplotlib.pyplot as plt"
   ]
  },
  {
   "cell_type": "code",
   "execution_count": 6,
   "id": "d76857f5",
   "metadata": {
    "execution": {
     "iopub.execute_input": "2021-11-24T17:46:37.268057Z",
     "iopub.status.busy": "2021-11-24T17:46:37.266900Z",
     "iopub.status.idle": "2021-11-24T17:46:39.532829Z",
     "shell.execute_reply": "2021-11-24T17:46:39.533753Z",
     "shell.execute_reply.started": "2021-11-24T16:17:14.825671Z"
    },
    "papermill": {
     "duration": 2.36447,
     "end_time": "2021-11-24T17:46:39.533968",
     "exception": false,
     "start_time": "2021-11-24T17:46:37.169498",
     "status": "completed"
    },
    "tags": []
   },
   "outputs": [
    {
     "data": {
      "image/png": "[encoded data removed]",
      "text/plain": [
       "<Figure size 1656x216 with 1 Axes>"
      ]
     },
     "metadata": {
      "needs_background": "light"
     },
     "output_type": "display_data"
    }
   ],
   "source": [
    "df.Brand.value_counts().plot(kind='bar', figsize=(23, 3))\n",
    "# commenting the plot \n",
    "plt.title(\"Cars brend\")\n",
    "plt.xlabel(\"Brend name\")\n",
    "plt.ylabel(\"Count\"); "
   ]
  },
  {
   "cell_type": "markdown",
   "id": "bd4298b3",
   "metadata": {
    "papermill": {
     "duration": 0.046363,
     "end_time": "2021-11-24T17:46:39.630612",
     "exception": false,
     "start_time": "2021-11-24T17:46:39.584249",
     "status": "completed"
    },
    "tags": []
   },
   "source": [
    "### Consediring only top N brends"
   ]
  },
  {
   "cell_type": "code",
   "execution_count": 7,
   "id": "a91f1e01",
   "metadata": {
    "execution": {
     "iopub.execute_input": "2021-11-24T17:46:39.740203Z",
     "iopub.status.busy": "2021-11-24T17:46:39.739092Z",
     "iopub.status.idle": "2021-11-24T17:46:39.742681Z",
     "shell.execute_reply": "2021-11-24T17:46:39.743161Z",
     "shell.execute_reply.started": "2021-11-24T16:17:16.685098Z"
    },
    "papermill": {
     "duration": 0.065678,
     "end_time": "2021-11-24T17:46:39.743296",
     "exception": false,
     "start_time": "2021-11-24T17:46:39.677618",
     "status": "completed"
    },
    "tags": []
   },
   "outputs": [
    {
     "data": {
      "text/plain": [
       "Index(['Toyota', 'Suzuki', 'Bajaj', 'Honda'], dtype='object')"
      ]
     },
     "execution_count": 7,
     "metadata": {},
     "output_type": "execute_result"
    }
   ],
   "source": [
    "N = 4\n",
    "top_NBrands = df.Brand.value_counts()[:N].index\n",
    "top_NBrands"
   ]
  },
  {
   "cell_type": "code",
   "execution_count": 8,
   "id": "2fec0a93",
   "metadata": {
    "execution": {
     "iopub.execute_input": "2021-11-24T17:46:39.846419Z",
     "iopub.status.busy": "2021-11-24T17:46:39.842815Z",
     "iopub.status.idle": "2021-11-24T17:46:39.856033Z",
     "shell.execute_reply": "2021-11-24T17:46:39.855398Z",
     "shell.execute_reply.started": "2021-11-24T16:17:16.703887Z"
    },
    "papermill": {
     "duration": 0.065149,
     "end_time": "2021-11-24T17:46:39.856184",
     "exception": false,
     "start_time": "2021-11-24T17:46:39.791035",
     "status": "completed"
    },
    "tags": []
   },
   "outputs": [],
   "source": [
    "df_NB = df[df.Brand.isin(top_NBrands)] "
   ]
  },
  {
   "cell_type": "markdown",
   "id": "1fcb32e5",
   "metadata": {
    "papermill": {
     "duration": 0.047382,
     "end_time": "2021-11-24T17:46:39.950516",
     "exception": false,
     "start_time": "2021-11-24T17:46:39.903134",
     "status": "completed"
    },
    "tags": []
   },
   "source": [
    "### Fixing paths"
   ]
  },
  {
   "cell_type": "code",
   "execution_count": 9,
   "id": "59aabc06",
   "metadata": {
    "execution": {
     "iopub.execute_input": "2021-11-24T17:46:40.085109Z",
     "iopub.status.busy": "2021-11-24T17:46:40.057052Z",
     "iopub.status.idle": "2021-11-24T17:46:40.110905Z",
     "shell.execute_reply": "2021-11-24T17:46:40.110339Z",
     "shell.execute_reply.started": "2021-11-24T16:17:16.726558Z"
    },
    "papermill": {
     "duration": 0.111277,
     "end_time": "2021-11-24T17:46:40.111033",
     "exception": false,
     "start_time": "2021-11-24T17:46:39.999756",
     "status": "completed"
    },
    "tags": []
   },
   "outputs": [
    {
     "name": "stderr",
     "output_type": "stream",
     "text": [
      "/opt/conda/lib/python3.7/site-packages/pandas/core/generic.py:5516: SettingWithCopyWarning: \n",
      "A value is trying to be set on a copy of a slice from a DataFrame.\n",
      "Try using .loc[row_indexer,col_indexer] = value instead\n",
      "\n",
      "See the caveats in the documentation: https://pandas.pydata.org/pandas-docs/stable/user_guide/indexing.html#returning-a-view-versus-a-copy\n",
      "  self[name] = value\n"
     ]
    },
    {
     "data": {
      "text/plain": [
       "0        ../input/vehicle-images-dataset/vehicle_images...\n",
       "4        ../input/vehicle-images-dataset/vehicle_images...\n",
       "5        ../input/vehicle-images-dataset/vehicle_images...\n",
       "6        ../input/vehicle-images-dataset/vehicle_images...\n",
       "8        ../input/vehicle-images-dataset/vehicle_images...\n",
       "                               ...                        \n",
       "77972    ../input/vehicle-images-dataset/vehicle_images...\n",
       "77974    ../input/vehicle-images-dataset/vehicle_images...\n",
       "77975    ../input/vehicle-images-dataset/vehicle_images...\n",
       "77978    ../input/vehicle-images-dataset/vehicle_images...\n",
       "77979    ../input/vehicle-images-dataset/vehicle_images...\n",
       "Name: Image_Path, Length: 45984, dtype: object"
      ]
     },
     "execution_count": 9,
     "metadata": {},
     "output_type": "execute_result"
    }
   ],
   "source": [
    "df_NB.Image_Path = '../input/vehicle-images-dataset/vehicle_images/' + df_NB.Image_Path.str.replace('./','', regex=False)\n",
    "df_NB.Image_Path"
   ]
  },
  {
   "cell_type": "markdown",
   "id": "a962cfa1",
   "metadata": {
    "papermill": {
     "duration": 0.047119,
     "end_time": "2021-11-24T17:46:40.207031",
     "exception": false,
     "start_time": "2021-11-24T17:46:40.159912",
     "status": "completed"
    },
    "tags": []
   },
   "source": [
    "### Cheking for non existing paths"
   ]
  },
  {
   "cell_type": "code",
   "execution_count": 10,
   "id": "0adad85f",
   "metadata": {
    "execution": {
     "iopub.execute_input": "2021-11-24T17:46:40.307608Z",
     "iopub.status.busy": "2021-11-24T17:46:40.306883Z",
     "iopub.status.idle": "2021-11-24T17:46:42.002443Z",
     "shell.execute_reply": "2021-11-24T17:46:42.001476Z",
     "shell.execute_reply.started": "2021-11-24T16:17:16.779979Z"
    },
    "papermill": {
     "duration": 1.747742,
     "end_time": "2021-11-24T17:46:42.002605",
     "exception": false,
     "start_time": "2021-11-24T17:46:40.254863",
     "status": "completed"
    },
    "tags": []
   },
   "outputs": [
    {
     "data": {
      "text/plain": [
       "77977"
      ]
     },
     "execution_count": 10,
     "metadata": {},
     "output_type": "execute_result"
    }
   ],
   "source": [
    "import os\n",
    "x = os.listdir('../input/vehicle-images-dataset/vehicle_images/vehicle_images/')\n",
    "len(x)"
   ]
  },
  {
   "cell_type": "code",
   "execution_count": 11,
   "id": "49bc50b9",
   "metadata": {
    "execution": {
     "iopub.execute_input": "2021-11-24T17:46:42.105371Z",
     "iopub.status.busy": "2021-11-24T17:46:42.104251Z",
     "iopub.status.idle": "2021-11-24T17:46:42.108468Z",
     "shell.execute_reply": "2021-11-24T17:46:42.107942Z",
     "shell.execute_reply.started": "2021-11-24T16:17:16.837673Z"
    },
    "papermill": {
     "duration": 0.056647,
     "end_time": "2021-11-24T17:46:42.108591",
     "exception": false,
     "start_time": "2021-11-24T17:46:42.051944",
     "status": "completed"
    },
    "tags": []
   },
   "outputs": [
    {
     "data": {
      "text/plain": [
       "'1636034671579_Bajaj Discover 100 2011 Motorbike.jpg'"
      ]
     },
     "execution_count": 11,
     "metadata": {},
     "output_type": "execute_result"
    }
   ],
   "source": [
    "x[0]"
   ]
  },
  {
   "cell_type": "code",
   "execution_count": 12,
   "id": "a056ebb9",
   "metadata": {
    "execution": {
     "iopub.execute_input": "2021-11-24T17:46:42.220628Z",
     "iopub.status.busy": "2021-11-24T17:46:42.214694Z",
     "iopub.status.idle": "2021-11-24T17:46:42.265596Z",
     "shell.execute_reply": "2021-11-24T17:46:42.265069Z",
     "shell.execute_reply.started": "2021-11-24T16:17:16.845400Z"
    },
    "papermill": {
     "duration": 0.109179,
     "end_time": "2021-11-24T17:46:42.265784",
     "exception": false,
     "start_time": "2021-11-24T17:46:42.156605",
     "status": "completed"
    },
    "tags": []
   },
   "outputs": [],
   "source": [
    "t = list(df_NB.Image_Path.str.replace('../input/vehicle-images-dataset/vehicle_images/vehicle_images/','', regex=False))\n"
   ]
  },
  {
   "cell_type": "code",
   "execution_count": 13,
   "id": "a592c93e",
   "metadata": {
    "execution": {
     "iopub.execute_input": "2021-11-24T17:46:42.406708Z",
     "iopub.status.busy": "2021-11-24T17:46:42.366564Z",
     "iopub.status.idle": "2021-11-24T17:47:01.666140Z",
     "shell.execute_reply": "2021-11-24T17:47:01.666608Z",
     "shell.execute_reply.started": "2021-11-24T16:17:16.904843Z"
    },
    "papermill": {
     "duration": 19.351417,
     "end_time": "2021-11-24T17:47:01.666817",
     "exception": false,
     "start_time": "2021-11-24T17:46:42.315400",
     "status": "completed"
    },
    "tags": []
   },
   "outputs": [],
   "source": [
    "no_image = []\n",
    "for index, image in enumerate(t):\n",
    "    if image not in x:\n",
    "        no_image.append(index)"
   ]
  },
  {
   "cell_type": "code",
   "execution_count": 14,
   "id": "6341319f",
   "metadata": {
    "execution": {
     "iopub.execute_input": "2021-11-24T17:47:01.768350Z",
     "iopub.status.busy": "2021-11-24T17:47:01.767315Z",
     "iopub.status.idle": "2021-11-24T17:47:01.771917Z",
     "shell.execute_reply": "2021-11-24T17:47:01.771367Z",
     "shell.execute_reply.started": "2021-11-24T16:17:36.027015Z"
    },
    "papermill": {
     "duration": 0.056975,
     "end_time": "2021-11-24T17:47:01.772072",
     "exception": false,
     "start_time": "2021-11-24T17:47:01.715097",
     "status": "completed"
    },
    "tags": []
   },
   "outputs": [
    {
     "data": {
      "text/plain": [
       "[44951]"
      ]
     },
     "execution_count": 14,
     "metadata": {},
     "output_type": "execute_result"
    }
   ],
   "source": [
    "no_image"
   ]
  },
  {
   "cell_type": "markdown",
   "id": "09615740",
   "metadata": {
    "papermill": {
     "duration": 0.047433,
     "end_time": "2021-11-24T17:47:01.868552",
     "exception": false,
     "start_time": "2021-11-24T17:47:01.821119",
     "status": "completed"
    },
    "tags": []
   },
   "source": [
    "#### indexs of paths "
   ]
  },
  {
   "cell_type": "markdown",
   "id": "97c44fc5",
   "metadata": {
    "papermill": {
     "duration": 0.050327,
     "end_time": "2021-11-24T17:47:01.967146",
     "exception": false,
     "start_time": "2021-11-24T17:47:01.916819",
     "status": "completed"
    },
    "tags": []
   },
   "source": [
    "### Deleting the non existing images"
   ]
  },
  {
   "cell_type": "code",
   "execution_count": 15,
   "id": "e0945954",
   "metadata": {
    "execution": {
     "iopub.execute_input": "2021-11-24T17:47:02.075338Z",
     "iopub.status.busy": "2021-11-24T17:47:02.074502Z",
     "iopub.status.idle": "2021-11-24T17:47:02.092658Z",
     "shell.execute_reply": "2021-11-24T17:47:02.093464Z",
     "shell.execute_reply.started": "2021-11-24T16:17:36.034660Z"
    },
    "papermill": {
     "duration": 0.074475,
     "end_time": "2021-11-24T17:47:02.093699",
     "exception": false,
     "start_time": "2021-11-24T17:47:02.019224",
     "status": "completed"
    },
    "tags": []
   },
   "outputs": [
    {
     "name": "stderr",
     "output_type": "stream",
     "text": [
      "/opt/conda/lib/python3.7/site-packages/pandas/core/frame.py:4913: SettingWithCopyWarning: \n",
      "A value is trying to be set on a copy of a slice from a DataFrame\n",
      "\n",
      "See the caveats in the documentation: https://pandas.pydata.org/pandas-docs/stable/user_guide/indexing.html#returning-a-view-versus-a-copy\n",
      "  errors=errors,\n"
     ]
    }
   ],
   "source": [
    "df_NB.drop(df_NB.iloc[no_image, :].index, axis=0, inplace=True);"
   ]
  },
  {
   "cell_type": "code",
   "execution_count": 16,
   "id": "c0f2498b",
   "metadata": {
    "execution": {
     "iopub.execute_input": "2021-11-24T17:47:02.198751Z",
     "iopub.status.busy": "2021-11-24T17:47:02.194457Z",
     "iopub.status.idle": "2021-11-24T17:47:02.203112Z",
     "shell.execute_reply": "2021-11-24T17:47:02.202593Z",
     "shell.execute_reply.started": "2021-11-24T16:17:36.053869Z"
    },
    "papermill": {
     "duration": 0.059214,
     "end_time": "2021-11-24T17:47:02.203232",
     "exception": false,
     "start_time": "2021-11-24T17:47:02.144018",
     "status": "completed"
    },
    "tags": []
   },
   "outputs": [
    {
     "data": {
      "text/plain": [
       "(45983, 10)"
      ]
     },
     "execution_count": 16,
     "metadata": {},
     "output_type": "execute_result"
    }
   ],
   "source": [
    "df_NB.shape"
   ]
  },
  {
   "cell_type": "markdown",
   "id": "8f70fc65",
   "metadata": {
    "papermill": {
     "duration": 0.051528,
     "end_time": "2021-11-24T17:47:02.304806",
     "exception": false,
     "start_time": "2021-11-24T17:47:02.253278",
     "status": "completed"
    },
    "tags": []
   },
   "source": [
    "## Features / Target"
   ]
  },
  {
   "cell_type": "code",
   "execution_count": 17,
   "id": "a6fc3a06",
   "metadata": {
    "execution": {
     "iopub.execute_input": "2021-11-24T17:47:02.417057Z",
     "iopub.status.busy": "2021-11-24T17:47:02.415807Z",
     "iopub.status.idle": "2021-11-24T17:47:02.418531Z",
     "shell.execute_reply": "2021-11-24T17:47:02.419152Z",
     "shell.execute_reply.started": "2021-11-24T16:17:36.065543Z"
    },
    "papermill": {
     "duration": 0.061586,
     "end_time": "2021-11-24T17:47:02.419310",
     "exception": false,
     "start_time": "2021-11-24T17:47:02.357724",
     "status": "completed"
    },
    "tags": []
   },
   "outputs": [],
   "source": [
    "X = df_NB.Image_Path\n",
    "y = df_NB.Brand"
   ]
  },
  {
   "cell_type": "code",
   "execution_count": 18,
   "id": "5b0e6509",
   "metadata": {
    "execution": {
     "iopub.execute_input": "2021-11-24T17:47:02.525203Z",
     "iopub.status.busy": "2021-11-24T17:47:02.524217Z",
     "iopub.status.idle": "2021-11-24T17:47:02.531773Z",
     "shell.execute_reply": "2021-11-24T17:47:02.531212Z",
     "shell.execute_reply.started": "2021-11-24T16:17:36.077410Z"
    },
    "papermill": {
     "duration": 0.062185,
     "end_time": "2021-11-24T17:47:02.531903",
     "exception": false,
     "start_time": "2021-11-24T17:47:02.469718",
     "status": "completed"
    },
    "tags": []
   },
   "outputs": [
    {
     "data": {
      "text/plain": [
       "((45983,), (45983,))"
      ]
     },
     "execution_count": 18,
     "metadata": {},
     "output_type": "execute_result"
    }
   ],
   "source": [
    "X.shape, y.shape"
   ]
  },
  {
   "cell_type": "code",
   "execution_count": 19,
   "id": "81b6805e",
   "metadata": {
    "execution": {
     "iopub.execute_input": "2021-11-24T17:47:02.720905Z",
     "iopub.status.busy": "2021-11-24T17:47:02.719307Z",
     "iopub.status.idle": "2021-11-24T17:47:02.722982Z",
     "shell.execute_reply": "2021-11-24T17:47:02.722070Z",
     "shell.execute_reply.started": "2021-11-24T16:17:36.086307Z"
    },
    "papermill": {
     "duration": 0.107201,
     "end_time": "2021-11-24T17:47:02.723167",
     "exception": false,
     "start_time": "2021-11-24T17:47:02.615966",
     "status": "completed"
    },
    "tags": []
   },
   "outputs": [],
   "source": [
    "from IPython.display import display, Image"
   ]
  },
  {
   "cell_type": "markdown",
   "id": "0d975c6a",
   "metadata": {
    "papermill": {
     "duration": 0.088153,
     "end_time": "2021-11-24T17:47:02.900333",
     "exception": false,
     "start_time": "2021-11-24T17:47:02.812180",
     "status": "completed"
    },
    "tags": []
   },
   "source": [
    "### showing an image simple\n",
    " "
   ]
  },
  {
   "cell_type": "code",
   "execution_count": 20,
   "id": "2f20e47d",
   "metadata": {
    "execution": {
     "iopub.execute_input": "2021-11-24T17:47:03.090805Z",
     "iopub.status.busy": "2021-11-24T17:47:03.083382Z",
     "iopub.status.idle": "2021-11-24T17:47:03.109789Z",
     "shell.execute_reply": "2021-11-24T17:47:03.110816Z",
     "shell.execute_reply.started": "2021-11-24T16:17:36.093822Z"
    },
    "papermill": {
     "duration": 0.124746,
     "end_time": "2021-11-24T17:47:03.111121",
     "exception": false,
     "start_time": "2021-11-24T17:47:02.986375",
     "status": "completed"
    },
    "tags": []
   },
   "outputs": [
    {
     "name": "stdout",
     "output_type": "stream",
     "text": [
      "Toyota\n"
     ]
    },
    {
     "data": {
      "image/jpeg": "[encoded data removed]",
      "text/plain": [
       "<IPython.core.display.Image object>"
      ]
     },
     "execution_count": 20,
     "metadata": {},
     "output_type": "execute_result"
    }
   ],
   "source": [
    "print(y[4])\n",
    "Image(X[4]) "
   ]
  },
  {
   "cell_type": "markdown",
   "id": "8dc5cf30",
   "metadata": {
    "papermill": {
     "duration": 0.103139,
     "end_time": "2021-11-24T17:47:03.330961",
     "exception": false,
     "start_time": "2021-11-24T17:47:03.227822",
     "status": "completed"
    },
    "tags": []
   },
   "source": [
    "## Data Engineering"
   ]
  },
  {
   "cell_type": "code",
   "execution_count": 21,
   "id": "8d2b265c",
   "metadata": {
    "execution": {
     "iopub.execute_input": "2021-11-24T17:47:03.565222Z",
     "iopub.status.busy": "2021-11-24T17:47:03.563836Z",
     "iopub.status.idle": "2021-11-24T17:47:03.565869Z",
     "shell.execute_reply": "2021-11-24T17:47:03.564608Z",
     "shell.execute_reply.started": "2021-11-24T16:17:36.115238Z"
    },
    "papermill": {
     "duration": 0.125568,
     "end_time": "2021-11-24T17:47:03.566079",
     "exception": false,
     "start_time": "2021-11-24T17:47:03.440511",
     "status": "completed"
    },
    "tags": []
   },
   "outputs": [],
   "source": [
    "def simple_transformer(column):\n",
    "    \"\"\"\n",
    "    this transformer will convert any giving categoricol column to numerical.\n",
    "    \"\"\"\n",
    "    # all unique values for column \n",
    "    names = column.value_counts().index\n",
    "    # how size of them\n",
    "    size = len(names)\n",
    "    # create dict value:name / ex: {1:'category 1'}... \n",
    "    replacement = dict(zip(names, range(size)))\n",
    "    # aplly the changes\n",
    "    column.replace(replacement, inplace=True)\n",
    "    return replacement"
   ]
  },
  {
   "cell_type": "code",
   "execution_count": 22,
   "id": "37197162",
   "metadata": {
    "execution": {
     "iopub.execute_input": "2021-11-24T17:47:03.797310Z",
     "iopub.status.busy": "2021-11-24T17:47:03.795436Z",
     "iopub.status.idle": "2021-11-24T17:47:03.869297Z",
     "shell.execute_reply": "2021-11-24T17:47:03.870761Z",
     "shell.execute_reply.started": "2021-11-24T16:17:36.124330Z"
    },
    "papermill": {
     "duration": 0.193059,
     "end_time": "2021-11-24T17:47:03.870987",
     "exception": false,
     "start_time": "2021-11-24T17:47:03.677928",
     "status": "completed"
    },
    "tags": []
   },
   "outputs": [
    {
     "name": "stderr",
     "output_type": "stream",
     "text": [
      "/opt/conda/lib/python3.7/site-packages/pandas/core/generic.py:6619: SettingWithCopyWarning: \n",
      "A value is trying to be set on a copy of a slice from a DataFrame\n",
      "\n",
      "See the caveats in the documentation: https://pandas.pydata.org/pandas-docs/stable/user_guide/indexing.html#returning-a-view-versus-a-copy\n",
      "  return self._update_inplace(result)\n"
     ]
    },
    {
     "data": {
      "text/plain": [
       "{'Toyota': 0, 'Suzuki': 1, 'Bajaj': 2, 'Honda': 3}"
      ]
     },
     "execution_count": 22,
     "metadata": {},
     "output_type": "execute_result"
    }
   ],
   "source": [
    "simple_transformer(y)"
   ]
  },
  {
   "cell_type": "code",
   "execution_count": 23,
   "id": "ede5613e",
   "metadata": {
    "execution": {
     "iopub.execute_input": "2021-11-24T17:47:04.011994Z",
     "iopub.status.busy": "2021-11-24T17:47:04.011031Z",
     "iopub.status.idle": "2021-11-24T17:47:04.014624Z",
     "shell.execute_reply": "2021-11-24T17:47:04.015334Z",
     "shell.execute_reply.started": "2021-11-24T16:17:36.194174Z"
    },
    "papermill": {
     "duration": 0.072184,
     "end_time": "2021-11-24T17:47:04.015605",
     "exception": false,
     "start_time": "2021-11-24T17:47:03.943421",
     "status": "completed"
    },
    "tags": []
   },
   "outputs": [
    {
     "data": {
      "text/plain": [
       "0    0\n",
       "4    0\n",
       "5    0\n",
       "6    0\n",
       "8    0\n",
       "Name: Brand, dtype: int64"
      ]
     },
     "execution_count": 23,
     "metadata": {},
     "output_type": "execute_result"
    }
   ],
   "source": [
    "y.head()"
   ]
  },
  {
   "cell_type": "markdown",
   "id": "6ce2c6f6",
   "metadata": {
    "papermill": {
     "duration": 0.058083,
     "end_time": "2021-11-24T17:47:04.132154",
     "exception": false,
     "start_time": "2021-11-24T17:47:04.074071",
     "status": "completed"
    },
    "tags": []
   },
   "source": [
    "## Modeling"
   ]
  },
  {
   "cell_type": "code",
   "execution_count": 24,
   "id": "589ff3a8",
   "metadata": {
    "execution": {
     "iopub.execute_input": "2021-11-24T17:47:04.256979Z",
     "iopub.status.busy": "2021-11-24T17:47:04.255871Z",
     "iopub.status.idle": "2021-11-24T17:47:05.188338Z",
     "shell.execute_reply": "2021-11-24T17:47:05.189024Z",
     "shell.execute_reply.started": "2021-11-24T16:17:36.210009Z"
    },
    "papermill": {
     "duration": 0.9995,
     "end_time": "2021-11-24T17:47:05.189240",
     "exception": false,
     "start_time": "2021-11-24T17:47:04.189740",
     "status": "completed"
    },
    "tags": []
   },
   "outputs": [],
   "source": [
    "from sklearn.model_selection import train_test_split\n",
    "\n",
    "# creating test and train data\n",
    "X_train, X_test, y_train, y_test = train_test_split(X,\n",
    "                                                  y, \n",
    "                                                  test_size=0.2,\n",
    "                                                  random_state=42, shuffle=True, stratify=y)"
   ]
  },
  {
   "cell_type": "code",
   "execution_count": 25,
   "id": "25fe2f11",
   "metadata": {
    "execution": {
     "iopub.execute_input": "2021-11-24T17:47:05.298985Z",
     "iopub.status.busy": "2021-11-24T17:47:05.297504Z",
     "iopub.status.idle": "2021-11-24T17:47:05.327702Z",
     "shell.execute_reply": "2021-11-24T17:47:05.327157Z",
     "shell.execute_reply.started": "2021-11-24T16:17:36.289706Z"
    },
    "papermill": {
     "duration": 0.087116,
     "end_time": "2021-11-24T17:47:05.327847",
     "exception": false,
     "start_time": "2021-11-24T17:47:05.240731",
     "status": "completed"
    },
    "tags": []
   },
   "outputs": [],
   "source": [
    "# create validation data from train\n",
    "X_train, X_val, y_train, y_val = train_test_split(X_train,\n",
    "                                                  y_train, \n",
    "                                                  test_size=0.2,\n",
    "                                                  random_state=42, shuffle=True, stratify=y_train)"
   ]
  },
  {
   "cell_type": "code",
   "execution_count": 26,
   "id": "5401821e",
   "metadata": {
    "execution": {
     "iopub.execute_input": "2021-11-24T17:47:05.436980Z",
     "iopub.status.busy": "2021-11-24T17:47:05.436342Z",
     "iopub.status.idle": "2021-11-24T17:47:09.412068Z",
     "shell.execute_reply": "2021-11-24T17:47:09.411507Z",
     "shell.execute_reply.started": "2021-11-24T16:17:36.337927Z"
    },
    "papermill": {
     "duration": 4.032754,
     "end_time": "2021-11-24T17:47:09.412212",
     "exception": false,
     "start_time": "2021-11-24T17:47:05.379458",
     "status": "completed"
    },
    "tags": []
   },
   "outputs": [],
   "source": [
    "import tensorflow as tf"
   ]
  },
  {
   "cell_type": "code",
   "execution_count": 27,
   "id": "7ef030f7",
   "metadata": {
    "execution": {
     "iopub.execute_input": "2021-11-24T17:47:09.723440Z",
     "iopub.status.busy": "2021-11-24T17:47:09.722509Z",
     "iopub.status.idle": "2021-11-24T17:47:09.728708Z",
     "shell.execute_reply": "2021-11-24T17:47:09.729398Z",
     "shell.execute_reply.started": "2021-11-24T16:17:36.347202Z"
    },
    "papermill": {
     "duration": 0.264815,
     "end_time": "2021-11-24T17:47:09.729633",
     "exception": false,
     "start_time": "2021-11-24T17:47:09.464818",
     "status": "completed"
    },
    "tags": []
   },
   "outputs": [
    {
     "name": "stdout",
     "output_type": "stream",
     "text": [
      "GPU available\n"
     ]
    },
    {
     "name": "stderr",
     "output_type": "stream",
     "text": [
      "2021-11-24 17:47:09.575744: I tensorflow/stream_executor/cuda/cuda_gpu_executor.cc:937] successful NUMA node read from SysFS had negative value (-1), but there must be at least one NUMA node, so returning NUMA node zero\n",
      "2021-11-24 17:47:09.716338: I tensorflow/stream_executor/cuda/cuda_gpu_executor.cc:937] successful NUMA node read from SysFS had negative value (-1), but there must be at least one NUMA node, so returning NUMA node zero\n",
      "2021-11-24 17:47:09.717375: I tensorflow/stream_executor/cuda/cuda_gpu_executor.cc:937] successful NUMA node read from SysFS had negative value (-1), but there must be at least one NUMA node, so returning NUMA node zero\n"
     ]
    }
   ],
   "source": [
    "# Check GPU \n",
    "print(\"GPU available\" if tf.config.list_physical_devices(\"GPU\") else \"not available\");"
   ]
  },
  {
   "cell_type": "code",
   "execution_count": 28,
   "id": "95ba1552",
   "metadata": {
    "execution": {
     "iopub.execute_input": "2021-11-24T17:47:09.885226Z",
     "iopub.status.busy": "2021-11-24T17:47:09.884059Z",
     "iopub.status.idle": "2021-11-24T17:47:09.891282Z",
     "shell.execute_reply": "2021-11-24T17:47:09.892049Z",
     "shell.execute_reply.started": "2021-11-24T16:17:36.364838Z"
    },
    "papermill": {
     "duration": 0.111399,
     "end_time": "2021-11-24T17:47:09.892291",
     "exception": false,
     "start_time": "2021-11-24T17:47:09.780892",
     "status": "completed"
    },
    "tags": []
   },
   "outputs": [],
   "source": [
    "# image size\n",
    "IMG_SIZE = 220\n",
    "\n",
    "def process_image(image_path):\n",
    "    \"\"\"\n",
    "    Convert an image file path and turns it into a Tensor.\n",
    "    \"\"\"\n",
    "    # Read an image from path\n",
    "    image = tf.io.read_file(image_path)\n",
    "    # Decode the jpeg image into numerical Tensor with 3 colour channels (Red, Green, Blue)\n",
    "    image = tf.image.decode_jpeg(image, channels=3)\n",
    "    # Convert the colour channel values from 0-225 to 0-1 values\n",
    "    image = tf.image.convert_image_dtype(image, tf.float32)\n",
    "    # Resize the image to our desired size IMG_SIZE\n",
    "    image = tf.image.resize(image, size=[IMG_SIZE, IMG_SIZE])\n",
    "    return image"
   ]
  },
  {
   "cell_type": "code",
   "execution_count": 29,
   "id": "1786a65e",
   "metadata": {
    "execution": {
     "iopub.execute_input": "2021-11-24T17:47:10.118271Z",
     "iopub.status.busy": "2021-11-24T17:47:10.117291Z",
     "iopub.status.idle": "2021-11-24T17:47:10.120242Z",
     "shell.execute_reply": "2021-11-24T17:47:10.121156Z",
     "shell.execute_reply.started": "2021-11-24T16:17:36.391274Z"
    },
    "papermill": {
     "duration": 0.127083,
     "end_time": "2021-11-24T17:47:10.121402",
     "exception": false,
     "start_time": "2021-11-24T17:47:09.994319",
     "status": "completed"
    },
    "tags": []
   },
   "outputs": [],
   "source": [
    "# function to return a tuple (image, label)\n",
    "def get_image_label(image_path, label):\n",
    "    \"\"\"\n",
    "    Takes an image file path name and the associated label,\n",
    "    processes the image and returns a tuple of (image, label).\n",
    "    \"\"\"\n",
    "    image = process_image(image_path)\n",
    "    return image, label"
   ]
  },
  {
   "cell_type": "code",
   "execution_count": 30,
   "id": "bac8e453",
   "metadata": {
    "execution": {
     "iopub.execute_input": "2021-11-24T17:47:10.303055Z",
     "iopub.status.busy": "2021-11-24T17:47:10.302141Z",
     "iopub.status.idle": "2021-11-24T17:47:10.304774Z",
     "shell.execute_reply": "2021-11-24T17:47:10.305652Z",
     "shell.execute_reply.started": "2021-11-24T16:17:36.403736Z"
    },
    "papermill": {
     "duration": 0.097879,
     "end_time": "2021-11-24T17:47:10.305935",
     "exception": false,
     "start_time": "2021-11-24T17:47:10.208056",
     "status": "completed"
    },
    "tags": []
   },
   "outputs": [],
   "source": [
    "import numpy as np"
   ]
  },
  {
   "cell_type": "code",
   "execution_count": 31,
   "id": "c49e95df",
   "metadata": {
    "execution": {
     "iopub.execute_input": "2021-11-24T17:47:10.481604Z",
     "iopub.status.busy": "2021-11-24T17:47:10.480508Z",
     "iopub.status.idle": "2021-11-24T17:47:10.483547Z",
     "shell.execute_reply": "2021-11-24T17:47:10.484297Z",
     "shell.execute_reply.started": "2021-11-24T16:17:36.413540Z"
    },
    "papermill": {
     "duration": 0.086851,
     "end_time": "2021-11-24T17:47:10.484465",
     "exception": false,
     "start_time": "2021-11-24T17:47:10.397614",
     "status": "completed"
    },
    "tags": []
   },
   "outputs": [],
   "source": [
    "# batch size of 32 is a good default\n",
    "BATCH_SIZE = 256\n",
    "\n",
    "# function to turn data into batches\n",
    "def create_data_batches(x, y, batch_size=BATCH_SIZE):\n",
    "    \"\"\"\n",
    "    Creates batches of data out of image (x) and label (y) pairs.\n",
    "    \"\"\"\n",
    "    print(\"Creating data batches...\")\n",
    "    # Turn filepaths and labels into Tensors\n",
    "    data = tf.data.Dataset.from_tensor_slices((tf.constant(x), # filepaths\n",
    "                                               tf.constant(y))) # labels  \n",
    "    # Create (image, label) tuples (this also turns the image path into a preprocessed image)\n",
    "    data = data.map(get_image_label)\n",
    "    # Turn the data into batches\n",
    "    \n",
    "    data_batch = data.batch(BATCH_SIZE)\n",
    "    return data_batch"
   ]
  },
  {
   "cell_type": "code",
   "execution_count": 32,
   "id": "77c248f4",
   "metadata": {
    "execution": {
     "iopub.execute_input": "2021-11-24T17:47:13.184604Z",
     "iopub.status.busy": "2021-11-24T17:47:12.860310Z",
     "iopub.status.idle": "2021-11-24T17:47:13.352123Z",
     "shell.execute_reply": "2021-11-24T17:47:13.351378Z",
     "shell.execute_reply.started": "2021-11-24T16:17:36.429374Z"
    },
    "papermill": {
     "duration": 2.813192,
     "end_time": "2021-11-24T17:47:13.352274",
     "exception": false,
     "start_time": "2021-11-24T17:47:10.539082",
     "status": "completed"
    },
    "tags": []
   },
   "outputs": [
    {
     "name": "stdout",
     "output_type": "stream",
     "text": [
      "Creating data batches...\n",
      "Creating data batches...\n"
     ]
    },
    {
     "name": "stderr",
     "output_type": "stream",
     "text": [
      "2021-11-24 17:47:10.595212: I tensorflow/core/platform/cpu_feature_guard.cc:142] This TensorFlow binary is optimized with oneAPI Deep Neural Network Library (oneDNN) to use the following CPU instructions in performance-critical operations:  AVX2 FMA\n",
      "To enable them in other operations, rebuild TensorFlow with the appropriate compiler flags.\n",
      "2021-11-24 17:47:10.597175: I tensorflow/stream_executor/cuda/cuda_gpu_executor.cc:937] successful NUMA node read from SysFS had negative value (-1), but there must be at least one NUMA node, so returning NUMA node zero\n",
      "2021-11-24 17:47:10.598207: I tensorflow/stream_executor/cuda/cuda_gpu_executor.cc:937] successful NUMA node read from SysFS had negative value (-1), but there must be at least one NUMA node, so returning NUMA node zero\n",
      "2021-11-24 17:47:10.599171: I tensorflow/stream_executor/cuda/cuda_gpu_executor.cc:937] successful NUMA node read from SysFS had negative value (-1), but there must be at least one NUMA node, so returning NUMA node zero\n",
      "2021-11-24 17:47:12.849004: I tensorflow/stream_executor/cuda/cuda_gpu_executor.cc:937] successful NUMA node read from SysFS had negative value (-1), but there must be at least one NUMA node, so returning NUMA node zero\n",
      "2021-11-24 17:47:12.850158: I tensorflow/stream_executor/cuda/cuda_gpu_executor.cc:937] successful NUMA node read from SysFS had negative value (-1), but there must be at least one NUMA node, so returning NUMA node zero\n",
      "2021-11-24 17:47:12.851117: I tensorflow/stream_executor/cuda/cuda_gpu_executor.cc:937] successful NUMA node read from SysFS had negative value (-1), but there must be at least one NUMA node, so returning NUMA node zero\n",
      "2021-11-24 17:47:12.852027: I tensorflow/core/common_runtime/gpu/gpu_device.cc:1510] Created device /job:localhost/replica:0/task:0/device:GPU:0 with 15403 MB memory:  -> device: 0, name: Tesla P100-PCIE-16GB, pci bus id: 0000:00:04.0, compute capability: 6.0\n"
     ]
    }
   ],
   "source": [
    "# Create training and validation data batches\n",
    "train_data = create_data_batches(X_train, y_train)\n",
    "val_data = create_data_batches(X_val, y_val)\n",
    "# train_ds = train_ds.prefetch(buffer_size=32)\n",
    "# val_ds = val_ds.prefetch(buffer_size=32)"
   ]
  },
  {
   "cell_type": "code",
   "execution_count": 33,
   "id": "824d4752",
   "metadata": {
    "execution": {
     "iopub.execute_input": "2021-11-24T17:47:13.470552Z",
     "iopub.status.busy": "2021-11-24T17:47:13.469506Z",
     "iopub.status.idle": "2021-11-24T17:47:14.416963Z",
     "shell.execute_reply": "2021-11-24T17:47:14.416356Z",
     "shell.execute_reply.started": "2021-11-24T16:17:36.573295Z"
    },
    "papermill": {
     "duration": 1.009376,
     "end_time": "2021-11-24T17:47:14.417101",
     "exception": false,
     "start_time": "2021-11-24T17:47:13.407725",
     "status": "completed"
    },
    "tags": []
   },
   "outputs": [],
   "source": [
    "from tensorflow.keras import layers, models"
   ]
  },
  {
   "cell_type": "code",
   "execution_count": 34,
   "id": "8d55521f",
   "metadata": {
    "execution": {
     "iopub.execute_input": "2021-11-24T17:47:14.533065Z",
     "iopub.status.busy": "2021-11-24T17:47:14.530243Z",
     "iopub.status.idle": "2021-11-24T17:47:15.045326Z",
     "shell.execute_reply": "2021-11-24T17:47:15.044507Z",
     "shell.execute_reply.started": "2021-11-24T16:17:36.579126Z"
    },
    "papermill": {
     "duration": 0.57603,
     "end_time": "2021-11-24T17:47:15.045492",
     "exception": false,
     "start_time": "2021-11-24T17:47:14.469462",
     "status": "completed"
    },
    "tags": []
   },
   "outputs": [
    {
     "name": "stdout",
     "output_type": "stream",
     "text": [
      "Model: \"sequential_1\"\n",
      "_________________________________________________________________\n",
      "Layer (type)                 Output Shape              Param #   \n",
      "=================================================================\n",
      "sequential (Sequential)      (None, 220, 220, 3)       0         \n",
      "_________________________________________________________________\n",
      "conv2d (Conv2D)              (None, 220, 220, 32)      2432      \n",
      "_________________________________________________________________\n",
      "max_pooling2d (MaxPooling2D) (None, 110, 110, 32)      0         \n",
      "_________________________________________________________________\n",
      "conv2d_1 (Conv2D)            (None, 110, 110, 32)      25632     \n",
      "_________________________________________________________________\n",
      "max_pooling2d_1 (MaxPooling2 (None, 55, 55, 32)        0         \n",
      "_________________________________________________________________\n",
      "conv2d_2 (Conv2D)            (None, 55, 55, 64)        18496     \n",
      "_________________________________________________________________\n",
      "max_pooling2d_2 (MaxPooling2 (None, 27, 27, 64)        0         \n",
      "_________________________________________________________________\n",
      "conv2d_3 (Conv2D)            (None, 27, 27, 64)        36928     \n",
      "_________________________________________________________________\n",
      "max_pooling2d_3 (MaxPooling2 (None, 13, 13, 64)        0         \n",
      "_________________________________________________________________\n",
      "conv2d_4 (Conv2D)            (None, 13, 13, 64)        36928     \n",
      "_________________________________________________________________\n",
      "max_pooling2d_4 (MaxPooling2 (None, 6, 6, 64)          0         \n",
      "_________________________________________________________________\n",
      "flatten (Flatten)            (None, 2304)              0         \n",
      "_________________________________________________________________\n",
      "dense (Dense)                (None, 512)               1180160   \n",
      "_________________________________________________________________\n",
      "dense_1 (Dense)              (None, 4)                 2052      \n",
      "=================================================================\n",
      "Total params: 1,302,628\n",
      "Trainable params: 1,302,628\n",
      "Non-trainable params: 0\n",
      "_________________________________________________________________\n"
     ]
    }
   ],
   "source": [
    "def create_model():\n",
    "    \"\"\"\n",
    "    Function to build the model.    \n",
    "    \"\"\"\n",
    "    # building the model\n",
    "    data_augmentation = tf.keras.models.Sequential([\n",
    "        layers.RandomFlip(\"horizontal\", input_shape=(IMG_SIZE, IMG_SIZE, 3)),\n",
    "        layers.RandomRotation(0.1),\n",
    "        layers.RandomZoom(0.1)])\n",
    "    \n",
    "    model = models.Sequential([\n",
    "                data_augmentation,\n",
    "        \n",
    "                layers.Conv2D(32, 5, padding='same', activation='relu'),\n",
    "                layers.MaxPooling2D(),\n",
    "        \n",
    "                layers.Conv2D(32, 5, padding='same', activation='relu'),\n",
    "                layers.MaxPooling2D(),\n",
    "        \n",
    "                layers.Conv2D(64, 3, padding='same', activation='relu'),\n",
    "                layers.MaxPooling2D(),\n",
    "\n",
    "                layers.Conv2D(64, 3, padding='same', activation='relu'),\n",
    "                layers.MaxPooling2D(),\n",
    "        \n",
    "                layers.Conv2D(64, 3, padding='same', activation='relu'),\n",
    "                layers.MaxPooling2D(),\n",
    "                 \n",
    "                layers.Flatten(),\n",
    "                layers.Dense(512, activation='relu'),\n",
    "                        \n",
    "                layers.Dense(N, activation='softmax')])\n",
    "    \n",
    "    model.compile(optimizer= tf.keras.optimizers.Adam(),\n",
    "                  loss=tf.keras.losses.SparseCategoricalCrossentropy(),\n",
    "                  metrics=['accuracy'])\n",
    "\n",
    "    return model\n",
    "\n",
    "# Creating our model \n",
    "model = create_model()\n",
    "model.summary()"
   ]
  },
  {
   "cell_type": "code",
   "execution_count": 35,
   "id": "db5e150c",
   "metadata": {
    "execution": {
     "iopub.execute_input": "2021-11-24T17:47:15.181025Z",
     "iopub.status.busy": "2021-11-24T17:47:15.179917Z",
     "iopub.status.idle": "2021-11-24T17:47:15.183059Z",
     "shell.execute_reply": "2021-11-24T17:47:15.182305Z",
     "shell.execute_reply.started": "2021-11-24T16:17:36.969488Z"
    },
    "papermill": {
     "duration": 0.07334,
     "end_time": "2021-11-24T17:47:15.183222",
     "exception": false,
     "start_time": "2021-11-24T17:47:15.109882",
     "status": "completed"
    },
    "tags": []
   },
   "outputs": [],
   "source": [
    "from tensorflow import keras"
   ]
  },
  {
   "cell_type": "code",
   "execution_count": 36,
   "id": "f9123cc5",
   "metadata": {
    "execution": {
     "iopub.execute_input": "2021-11-24T17:47:15.313588Z",
     "iopub.status.busy": "2021-11-24T17:47:15.312895Z",
     "iopub.status.idle": "2021-11-24T18:46:12.130825Z",
     "shell.execute_reply": "2021-11-24T18:46:12.131676Z",
     "shell.execute_reply.started": "2021-11-24T16:17:36.976012Z"
    },
    "papermill": {
     "duration": 3536.887531,
     "end_time": "2021-11-24T18:46:12.131902",
     "exception": false,
     "start_time": "2021-11-24T17:47:15.244371",
     "status": "completed"
    },
    "tags": []
   },
   "outputs": [
    {
     "name": "stderr",
     "output_type": "stream",
     "text": [
      "2021-11-24 17:47:15.821632: I tensorflow/compiler/mlir/mlir_graph_optimization_pass.cc:185] None of the MLIR Optimization Passes are enabled (registered 2)\n"
     ]
    },
    {
     "name": "stdout",
     "output_type": "stream",
     "text": [
      "Epoch 1/100\n"
     ]
    },
    {
     "name": "stderr",
     "output_type": "stream",
     "text": [
      "2021-11-24 17:47:19.423068: I tensorflow/stream_executor/cuda/cuda_dnn.cc:369] Loaded cuDNN version 8005\n"
     ]
    },
    {
     "name": "stdout",
     "output_type": "stream",
     "text": [
      "115/115 [==============================] - 156s 1s/step - loss: 1.2048 - accuracy: 0.4527 - val_loss: 1.0559 - val_accuracy: 0.5329\n",
      "Epoch 2/100\n",
      "115/115 [==============================] - 40s 348ms/step - loss: 1.0227 - accuracy: 0.5497 - val_loss: 0.9033 - val_accuracy: 0.6136\n",
      "Epoch 3/100\n",
      "115/115 [==============================] - 41s 353ms/step - loss: 0.9399 - accuracy: 0.5974 - val_loss: 0.8435 - val_accuracy: 0.6363\n",
      "Epoch 4/100\n",
      "115/115 [==============================] - 40s 348ms/step - loss: 0.8636 - accuracy: 0.6339 - val_loss: 0.7810 - val_accuracy: 0.6695\n",
      "Epoch 5/100\n",
      "115/115 [==============================] - 40s 348ms/step - loss: 0.8177 - accuracy: 0.6525 - val_loss: 0.7467 - val_accuracy: 0.6878\n",
      "Epoch 6/100\n",
      "115/115 [==============================] - 41s 355ms/step - loss: 0.7654 - accuracy: 0.6772 - val_loss: 0.7120 - val_accuracy: 0.7081\n",
      "Epoch 7/100\n",
      "115/115 [==============================] - 41s 355ms/step - loss: 0.7150 - accuracy: 0.7011 - val_loss: 0.6766 - val_accuracy: 0.7234\n",
      "Epoch 8/100\n",
      "115/115 [==============================] - 41s 355ms/step - loss: 0.6822 - accuracy: 0.7193 - val_loss: 0.6579 - val_accuracy: 0.7309\n",
      "Epoch 9/100\n",
      "115/115 [==============================] - 41s 355ms/step - loss: 0.6528 - accuracy: 0.7320 - val_loss: 0.6514 - val_accuracy: 0.7359\n",
      "Epoch 10/100\n",
      "115/115 [==============================] - 41s 353ms/step - loss: 0.6246 - accuracy: 0.7461 - val_loss: 0.5981 - val_accuracy: 0.7603\n",
      "Epoch 11/100\n",
      "115/115 [==============================] - 40s 350ms/step - loss: 0.6052 - accuracy: 0.7533 - val_loss: 0.5941 - val_accuracy: 0.7646\n",
      "Epoch 12/100\n",
      "115/115 [==============================] - 40s 348ms/step - loss: 0.5819 - accuracy: 0.7657 - val_loss: 0.5768 - val_accuracy: 0.7748\n",
      "Epoch 13/100\n",
      "115/115 [==============================] - 41s 353ms/step - loss: 0.5650 - accuracy: 0.7729 - val_loss: 0.5668 - val_accuracy: 0.7817\n",
      "Epoch 14/100\n",
      "115/115 [==============================] - 40s 349ms/step - loss: 0.5417 - accuracy: 0.7847 - val_loss: 0.5883 - val_accuracy: 0.7718\n",
      "Epoch 15/100\n",
      "115/115 [==============================] - 41s 354ms/step - loss: 0.5216 - accuracy: 0.7924 - val_loss: 0.5571 - val_accuracy: 0.7862\n",
      "Epoch 16/100\n",
      "115/115 [==============================] - 41s 356ms/step - loss: 0.5047 - accuracy: 0.8003 - val_loss: 0.5646 - val_accuracy: 0.7843\n",
      "Epoch 17/100\n",
      "115/115 [==============================] - 41s 354ms/step - loss: 0.4974 - accuracy: 0.8025 - val_loss: 0.5408 - val_accuracy: 0.7941\n",
      "Epoch 18/100\n",
      "115/115 [==============================] - 41s 356ms/step - loss: 0.4786 - accuracy: 0.8106 - val_loss: 0.5367 - val_accuracy: 0.7989\n",
      "Epoch 19/100\n",
      "115/115 [==============================] - 41s 355ms/step - loss: 0.4678 - accuracy: 0.8149 - val_loss: 0.5573 - val_accuracy: 0.7847\n",
      "Epoch 20/100\n",
      "115/115 [==============================] - 41s 357ms/step - loss: 0.4563 - accuracy: 0.8210 - val_loss: 0.5527 - val_accuracy: 0.7944\n",
      "Epoch 21/100\n",
      "115/115 [==============================] - 42s 361ms/step - loss: 0.4426 - accuracy: 0.8264 - val_loss: 0.5360 - val_accuracy: 0.7959\n",
      "Epoch 22/100\n",
      "115/115 [==============================] - 41s 358ms/step - loss: 0.4301 - accuracy: 0.8315 - val_loss: 0.5502 - val_accuracy: 0.7926\n",
      "Epoch 23/100\n",
      "115/115 [==============================] - 41s 359ms/step - loss: 0.4242 - accuracy: 0.8337 - val_loss: 0.5520 - val_accuracy: 0.7937\n",
      "Epoch 24/100\n",
      "115/115 [==============================] - 42s 364ms/step - loss: 0.4139 - accuracy: 0.8391 - val_loss: 0.5282 - val_accuracy: 0.7998\n",
      "Epoch 25/100\n",
      "115/115 [==============================] - 42s 366ms/step - loss: 0.3961 - accuracy: 0.8447 - val_loss: 0.5652 - val_accuracy: 0.7941\n",
      "Epoch 26/100\n",
      "115/115 [==============================] - 43s 373ms/step - loss: 0.3893 - accuracy: 0.8474 - val_loss: 0.5323 - val_accuracy: 0.8088\n",
      "Epoch 27/100\n",
      "115/115 [==============================] - 43s 370ms/step - loss: 0.3914 - accuracy: 0.8486 - val_loss: 0.5287 - val_accuracy: 0.8063\n",
      "Epoch 28/100\n",
      "115/115 [==============================] - 43s 370ms/step - loss: 0.3720 - accuracy: 0.8552 - val_loss: 0.5565 - val_accuracy: 0.7940\n",
      "Epoch 29/100\n",
      "115/115 [==============================] - 42s 365ms/step - loss: 0.3711 - accuracy: 0.8552 - val_loss: 0.5336 - val_accuracy: 0.8021\n",
      "Epoch 30/100\n",
      "115/115 [==============================] - 41s 358ms/step - loss: 0.3598 - accuracy: 0.8605 - val_loss: 0.5573 - val_accuracy: 0.7971\n",
      "Epoch 31/100\n",
      "115/115 [==============================] - 43s 370ms/step - loss: 0.3560 - accuracy: 0.8609 - val_loss: 0.5655 - val_accuracy: 0.8039\n",
      "Epoch 32/100\n",
      "115/115 [==============================] - 43s 370ms/step - loss: 0.3461 - accuracy: 0.8665 - val_loss: 0.5782 - val_accuracy: 0.7953\n",
      "Epoch 33/100\n",
      "115/115 [==============================] - 43s 369ms/step - loss: 0.3324 - accuracy: 0.8704 - val_loss: 0.5488 - val_accuracy: 0.8025\n",
      "Epoch 34/100\n",
      "115/115 [==============================] - 43s 375ms/step - loss: 0.3263 - accuracy: 0.8750 - val_loss: 0.5467 - val_accuracy: 0.8089\n",
      "Epoch 35/100\n",
      "115/115 [==============================] - 43s 376ms/step - loss: 0.3206 - accuracy: 0.8747 - val_loss: 0.5736 - val_accuracy: 0.8077\n",
      "Epoch 36/100\n",
      "115/115 [==============================] - 43s 373ms/step - loss: 0.3207 - accuracy: 0.8744 - val_loss: 0.5678 - val_accuracy: 0.8088\n",
      "Epoch 37/100\n",
      "115/115 [==============================] - 44s 386ms/step - loss: 0.3148 - accuracy: 0.8776 - val_loss: 0.5666 - val_accuracy: 0.8088\n",
      "Epoch 38/100\n",
      "115/115 [==============================] - 43s 377ms/step - loss: 0.3016 - accuracy: 0.8841 - val_loss: 0.5604 - val_accuracy: 0.8038\n",
      "Epoch 39/100\n",
      "115/115 [==============================] - 44s 379ms/step - loss: 0.3078 - accuracy: 0.8814 - val_loss: 0.5526 - val_accuracy: 0.8103\n",
      "Epoch 40/100\n",
      "115/115 [==============================] - 44s 378ms/step - loss: 0.2961 - accuracy: 0.8864 - val_loss: 0.5490 - val_accuracy: 0.8131\n",
      "Epoch 41/100\n",
      "115/115 [==============================] - 42s 366ms/step - loss: 0.2968 - accuracy: 0.8861 - val_loss: 0.5583 - val_accuracy: 0.8058\n",
      "Epoch 42/100\n",
      "115/115 [==============================] - 43s 375ms/step - loss: 0.2943 - accuracy: 0.8857 - val_loss: 0.5678 - val_accuracy: 0.8134\n",
      "Epoch 43/100\n",
      "115/115 [==============================] - 41s 358ms/step - loss: 0.2817 - accuracy: 0.8925 - val_loss: 0.5937 - val_accuracy: 0.8063\n",
      "Epoch 44/100\n",
      "115/115 [==============================] - 44s 381ms/step - loss: 0.2789 - accuracy: 0.8948 - val_loss: 0.5882 - val_accuracy: 0.8184\n",
      "Epoch 45/100\n",
      "115/115 [==============================] - 45s 390ms/step - loss: 0.2726 - accuracy: 0.8947 - val_loss: 0.5928 - val_accuracy: 0.8131\n",
      "Epoch 46/100\n",
      "115/115 [==============================] - 42s 368ms/step - loss: 0.2654 - accuracy: 0.8991 - val_loss: 0.5817 - val_accuracy: 0.8088\n",
      "Epoch 47/100\n",
      "115/115 [==============================] - 42s 361ms/step - loss: 0.2653 - accuracy: 0.9009 - val_loss: 0.6008 - val_accuracy: 0.8088\n",
      "Epoch 48/100\n",
      "115/115 [==============================] - 42s 364ms/step - loss: 0.2610 - accuracy: 0.8992 - val_loss: 0.5893 - val_accuracy: 0.8073\n",
      "Epoch 49/100\n",
      "115/115 [==============================] - 42s 366ms/step - loss: 0.2511 - accuracy: 0.9038 - val_loss: 0.6018 - val_accuracy: 0.8139\n",
      "Epoch 50/100\n",
      "115/115 [==============================] - 43s 371ms/step - loss: 0.2490 - accuracy: 0.9037 - val_loss: 0.5967 - val_accuracy: 0.8074\n",
      "Epoch 51/100\n",
      "115/115 [==============================] - 42s 362ms/step - loss: 0.2472 - accuracy: 0.9045 - val_loss: 0.5863 - val_accuracy: 0.8150\n",
      "Epoch 52/100\n",
      "115/115 [==============================] - 42s 364ms/step - loss: 0.2359 - accuracy: 0.9093 - val_loss: 0.6201 - val_accuracy: 0.8080\n",
      "Epoch 53/100\n",
      "115/115 [==============================] - 42s 369ms/step - loss: 0.2368 - accuracy: 0.9120 - val_loss: 0.6185 - val_accuracy: 0.8089\n",
      "Epoch 54/100\n",
      "115/115 [==============================] - 42s 368ms/step - loss: 0.2283 - accuracy: 0.9141 - val_loss: 0.6157 - val_accuracy: 0.8150\n"
     ]
    }
   ],
   "source": [
    "# Create early stopping (callback function) (once our model stops improving, stop training)\n",
    "early_stopping = tf.keras.callbacks.EarlyStopping(monitor=\"val_accuracy\",\n",
    "                                                  patience=10) # stops after 3 rounds of no improvements\n",
    "# number of epochs\n",
    "NUM_EPOCHS = 100\n",
    "\n",
    "# function to train and return a trained model\n",
    "def train_model():\n",
    "    \"\"\"\n",
    "    Trains a given model and returns the trained version.\n",
    "    \"\"\"\n",
    "    # Create a model\n",
    "    model = create_model()\n",
    "\n",
    "    history = model.fit(\n",
    "        train_data,\n",
    "        epochs=NUM_EPOCHS,\n",
    "        validation_data=val_data,\n",
    "        callbacks= [early_stopping])\n",
    "  \n",
    "    return model, history\n",
    "\n",
    "# Fit the model to the data\n",
    "model, history = train_model()"
   ]
  },
  {
   "cell_type": "markdown",
   "id": "fe59b4e7",
   "metadata": {
    "papermill": {
     "duration": 2.183468,
     "end_time": "2021-11-24T18:46:16.413176",
     "exception": false,
     "start_time": "2021-11-24T18:46:14.229708",
     "status": "completed"
    },
    "tags": []
   },
   "source": [
    "## Accuracy Evaluation\n"
   ]
  },
  {
   "cell_type": "code",
   "execution_count": 37,
   "id": "8025101b",
   "metadata": {
    "execution": {
     "iopub.execute_input": "2021-11-24T18:46:21.074186Z",
     "iopub.status.busy": "2021-11-24T18:46:21.073125Z",
     "iopub.status.idle": "2021-11-24T18:46:21.075522Z",
     "shell.execute_reply": "2021-11-24T18:46:21.076114Z",
     "shell.execute_reply.started": "2021-11-24T16:44:23.908452Z"
    },
    "papermill": {
     "duration": 2.142748,
     "end_time": "2021-11-24T18:46:21.076310",
     "exception": false,
     "start_time": "2021-11-24T18:46:18.933562",
     "status": "completed"
    },
    "tags": []
   },
   "outputs": [],
   "source": [
    "import matplotlib.pyplot as plt"
   ]
  },
  {
   "cell_type": "code",
   "execution_count": 38,
   "id": "8fb36208",
   "metadata": {
    "execution": {
     "iopub.execute_input": "2021-11-24T18:46:26.126906Z",
     "iopub.status.busy": "2021-11-24T18:46:26.125848Z",
     "iopub.status.idle": "2021-11-24T18:46:26.383330Z",
     "shell.execute_reply": "2021-11-24T18:46:26.384088Z",
     "shell.execute_reply.started": "2021-11-24T16:44:23.915334Z"
    },
    "papermill": {
     "duration": 3.142228,
     "end_time": "2021-11-24T18:46:26.384317",
     "exception": false,
     "start_time": "2021-11-24T18:46:23.242089",
     "status": "completed"
    },
    "tags": []
   },
   "outputs": [
    {
     "data": {
      "image/png": "[encoded data removed]",
      "text/plain": [
       "<Figure size 432x288 with 1 Axes>"
      ]
     },
     "metadata": {
      "needs_background": "light"
     },
     "output_type": "display_data"
    }
   ],
   "source": [
    "plt.plot(history.history['accuracy'], label='Train Acc')\n",
    "plt.plot(history.history['val_accuracy'], label='Val Acc')\n",
    "plt.xlabel('Number Of Epochs')\n",
    "plt.ylabel('Accuracy %')\n",
    "plt.title('Accuracy Evaluation')\n",
    "plt.legend()\n",
    "plt.show()"
   ]
  },
  {
   "cell_type": "markdown",
   "id": "cc90b606",
   "metadata": {
    "papermill": {
     "duration": 2.190431,
     "end_time": "2021-11-24T18:46:31.353747",
     "exception": false,
     "start_time": "2021-11-24T18:46:29.163316",
     "status": "completed"
    },
    "tags": []
   },
   "source": [
    "## Summarize history for loss\n"
   ]
  },
  {
   "cell_type": "code",
   "execution_count": 39,
   "id": "9a62724c",
   "metadata": {
    "execution": {
     "iopub.execute_input": "2021-11-24T18:46:35.683023Z",
     "iopub.status.busy": "2021-11-24T18:46:35.663121Z",
     "iopub.status.idle": "2021-11-24T18:46:35.874673Z",
     "shell.execute_reply": "2021-11-24T18:46:35.873880Z",
     "shell.execute_reply.started": "2021-11-24T16:44:30.426846Z"
    },
    "papermill": {
     "duration": 2.394076,
     "end_time": "2021-11-24T18:46:35.874839",
     "exception": false,
     "start_time": "2021-11-24T18:46:33.480763",
     "status": "completed"
    },
    "tags": []
   },
   "outputs": [
    {
     "data": {
      "image/png": "[encoded data removed]",
      "text/plain": [
       "<Figure size 432x288 with 1 Axes>"
      ]
     },
     "metadata": {
      "needs_background": "light"
     },
     "output_type": "display_data"
    }
   ],
   "source": [
    "plt.plot(history.history['loss'])\n",
    "plt.plot(history.history['val_loss'])\n",
    "plt.title('Loss Evaluation')\n",
    "plt.ylabel('Loss %')\n",
    "plt.xlabel('Number Of Epochs')\n",
    "plt.legend(['Train Loss', 'Val Loss'], loc='lower left')\n",
    "plt.show()"
   ]
  },
  {
   "cell_type": "markdown",
   "id": "bee13bbc",
   "metadata": {
    "papermill": {
     "duration": 2.500554,
     "end_time": "2021-11-24T18:46:40.496547",
     "exception": false,
     "start_time": "2021-11-24T18:46:37.995993",
     "status": "completed"
    },
    "tags": []
   },
   "source": [
    "## Evaluating on test data"
   ]
  },
  {
   "cell_type": "code",
   "execution_count": 40,
   "id": "137fbdde",
   "metadata": {
    "execution": {
     "iopub.execute_input": "2021-11-24T18:46:44.830967Z",
     "iopub.status.busy": "2021-11-24T18:46:44.829805Z",
     "iopub.status.idle": "2021-11-24T18:47:23.010622Z",
     "shell.execute_reply": "2021-11-24T18:47:23.009981Z",
     "shell.execute_reply.started": "2021-11-24T16:44:30.627122Z"
    },
    "papermill": {
     "duration": 40.378351,
     "end_time": "2021-11-24T18:47:23.010783",
     "exception": false,
     "start_time": "2021-11-24T18:46:42.632432",
     "status": "completed"
    },
    "tags": []
   },
   "outputs": [
    {
     "name": "stdout",
     "output_type": "stream",
     "text": [
      "Creating data batches...\n",
      "36/36 [==============================] - 38s 1s/step - loss: 0.6292 - accuracy: 0.8135\n"
     ]
    },
    {
     "data": {
      "text/plain": [
       "[0.6291989088058472, 0.8135261535644531]"
      ]
     },
     "execution_count": 40,
     "metadata": {},
     "output_type": "execute_result"
    }
   ],
   "source": [
    "# model accuracy on test data\n",
    "test_data = create_data_batches(X_test, y_test)\n",
    "model.evaluate(test_data)"
   ]
  },
  {
   "cell_type": "code",
   "execution_count": null,
   "id": "57e60bf6",
   "metadata": {
    "papermill": {
     "duration": 2.147312,
     "end_time": "2021-11-24T18:47:27.674398",
     "exception": false,
     "start_time": "2021-11-24T18:47:25.527086",
     "status": "completed"
    },
    "tags": []
   },
   "outputs": [],
   "source": []
  },
  {
   "cell_type": "code",
   "execution_count": null,
   "id": "f9b3e6ce",
   "metadata": {
    "papermill": {
     "duration": 2.360441,
     "end_time": "2021-11-24T18:47:32.446017",
     "exception": false,
     "start_time": "2021-11-24T18:47:30.085576",
     "status": "completed"
    },
    "tags": []
   },
   "outputs": [],
   "source": []
  },
  {
   "cell_type": "code",
   "execution_count": null,
   "id": "60a94b4c",
   "metadata": {
    "papermill": {
     "duration": 2.434731,
     "end_time": "2021-11-24T18:47:37.521977",
     "exception": false,
     "start_time": "2021-11-24T18:47:35.087246",
     "status": "completed"
    },
    "tags": []
   },
   "outputs": [],
   "source": []
  }
 ],
 "metadata": {
  "kernelspec": {
   "display_name": "Python 3",
   "language": "python",
   "name": "python3"
  },
  "language_info": {
   "codemirror_mode": {
    "name": "ipython",
    "version": 3
   },
   "file_extension": ".py",
   "mimetype": "text/x-python",
   "name": "python",
   "nbconvert_exporter": "python",
   "pygments_lexer": "ipython3",
   "version": "3.7.10"
  },
  "papermill": {
   "default_parameters": {},
   "duration": 3677.326119,
   "end_time": "2021-11-24T18:47:43.493388",
   "environment_variables": {},
   "exception": null,
   "input_path": "__notebook__.ipynb",
   "output_path": "__notebook__.ipynb",
   "parameters": {},
   "start_time": "2021-11-24T17:46:26.167269",
   "version": "2.3.3"
  }
 },
 "nbformat": 4,
 "nbformat_minor": 5
}
